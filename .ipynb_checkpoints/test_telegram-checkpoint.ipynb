{
 "cells": [
  {
   "cell_type": "code",
   "execution_count": null,
   "id": "f8e9d2ba-f2dc-4cd9-a05d-bd4662db75cb",
   "metadata": {},
   "outputs": [],
   "source": [
    "def send_notice(event_name, key, v1, v2, v3):\n",
    "    url = \"https://maker.ifttt.com/trigger/\"+event_name+\"/with/key/\"+key+\"\"\n",
    "    payload = \"{\\n    \\\n",
    "        \\\"value1\\\": \\\"\"+str(v1)+\"\\\",\\n  \\\n",
    "        \\\"value2\\\": \\\"\"+str(v2)+\"\\\",\\n   \\\n",
    "        \\\"value3\\\": \\\"\"+str(v3)+\"\\\"\\n   \\\n",
    "    }\"\n",
    "    headers = {\n",
    "    'Content-Type': \"application/json\",\n",
    "    'User-Agent': \"PostmanRuntime/7.15.0\",\n",
    "    'Accept': \"*/*\",\n",
    "    'Cache-Control': \"no-cache\",\n",
    "    'Postman-Token': \"a9477d0f-08ee-4960-b6f8-9fd85dc0d5cc,d376ec80-54e1-450a-8215-952ea91b01dd\",\n",
    "    'Host': \"maker.ifttt.com\",\n",
    "    'accept-encoding': \"gzip, deflate\",\n",
    "    'content-length': \"63\",\n",
    "    'Connection': \"keep-alive\",\n",
    "    'cache-control': \"no-cache\"\n",
    "    }\n",
    " \n",
    "    response = requests.request(\"POST\", url, data=payload.encode('utf-8'), headers=headers)\n",
    "    #print(response.text)"
   ]
  },
  {
   "cell_type": "code",
   "execution_count": 21,
   "id": "f52de739-4d06-4458-aa08-9ec2f57dc888",
   "metadata": {
    "execution": {
     "iopub.execute_input": "2022-07-12T06:25:48.441931Z",
     "iopub.status.busy": "2022-07-12T06:25:48.441581Z",
     "iopub.status.idle": "2022-07-12T06:25:53.860318Z",
     "shell.execute_reply": "2022-07-12T06:25:53.859438Z",
     "shell.execute_reply.started": "2022-07-12T06:25:48.441904Z"
    },
    "tags": []
   },
   "outputs": [],
   "source": [
    "import requests,json,subprocess\n",
    "\n",
    "def send_notice(status):\n",
    "    _, username = subprocess.getstatusoutput('whoami')\n",
    "    url = \"https://maker.ifttt.com/trigger/HPC Notification/with/key/e9a-LJWGupPNyg0vN-d1fzTpflrPRbvP9Mh-dmlGl8N\"\n",
    "    payload = {\n",
    "        'value1':username,\n",
    "        'value2':status,\n",
    "        # 'value3':'test3'\n",
    "    }\n",
    "    headers = {\n",
    "    'Content-Type': \"application/json\",\n",
    "    }\n",
    "\n",
    "    response = requests.request(\"POST\", url, data=json.dumps(payload), headers=headers)\n",
    "\n",
    "    \n",
    "send_notice('test')"
   ]
  },
  {
   "cell_type": "code",
   "execution_count": 6,
   "id": "124aa935-edd4-44ce-803d-31d3d4b65280",
   "metadata": {
    "execution": {
     "iopub.execute_input": "2022-07-12T05:40:15.633393Z",
     "iopub.status.busy": "2022-07-12T05:40:15.632931Z",
     "iopub.status.idle": "2022-07-12T05:40:15.643269Z",
     "shell.execute_reply": "2022-07-12T05:40:15.642712Z",
     "shell.execute_reply.started": "2022-07-12T05:40:15.633364Z"
    }
   },
   "outputs": [
    {
     "data": {
      "text/plain": [
       "'{\"user\": \"test\"}'"
      ]
     },
     "execution_count": 6,
     "metadata": {},
     "output_type": "execute_result"
    }
   ],
   "source": [
    "payload = {\n",
    "    'user':'test',\n",
    "}\n",
    "json.dumps(payload)\n"
   ]
  },
  {
   "cell_type": "code",
   "execution_count": 16,
   "id": "a72b0981-9a85-464c-bf25-26aa5e14a50d",
   "metadata": {
    "execution": {
     "iopub.execute_input": "2022-07-12T06:20:32.430054Z",
     "iopub.status.busy": "2022-07-12T06:20:32.429576Z",
     "iopub.status.idle": "2022-07-12T06:20:32.475036Z",
     "shell.execute_reply": "2022-07-12T06:20:32.474378Z",
     "shell.execute_reply.started": "2022-07-12T06:20:32.430024Z"
    },
    "tags": []
   },
   "outputs": [
    {
     "data": {
      "text/plain": [
       "'lixq'"
      ]
     },
     "execution_count": 16,
     "metadata": {},
     "output_type": "execute_result"
    }
   ],
   "source": [
    "import subprocess\n",
    "\n",
    "_, result = subprocess.getstatusoutput('whoami')\n",
    "result"
   ]
  },
  {
   "cell_type": "code",
   "execution_count": null,
   "id": "7ac11774-492a-43c4-bc25-311a9478daec",
   "metadata": {},
   "outputs": [],
   "source": []
  }
 ],
 "metadata": {
  "kernelspec": {
   "display_name": "Python 3",
   "language": "python",
   "name": "python3"
  },
  "language_info": {
   "codemirror_mode": {
    "name": "ipython",
    "version": 3
   },
   "file_extension": ".py",
   "mimetype": "text/x-python",
   "name": "python",
   "nbconvert_exporter": "python",
   "pygments_lexer": "ipython3",
   "version": "3.9.13"
  }
 },
 "nbformat": 4,
 "nbformat_minor": 5
}
